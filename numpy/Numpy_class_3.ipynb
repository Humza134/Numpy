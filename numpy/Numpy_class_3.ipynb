{
  "nbformat": 4,
  "nbformat_minor": 0,
  "metadata": {
    "colab": {
      "provenance": [],
      "authorship_tag": "ABX9TyMS9xZtGKjeDIFz/9eMUf9S"
    },
    "kernelspec": {
      "name": "python3",
      "display_name": "Python 3"
    },
    "language_info": {
      "name": "python"
    }
  },
  "cells": [
    {
      "cell_type": "markdown",
      "source": [
        "#Combining Arrays"
      ],
      "metadata": {
        "id": "jWGsA5Iv33dP"
      }
    },
    {
      "cell_type": "code",
      "execution_count": 1,
      "metadata": {
        "id": "veNCn-mg1hNQ"
      },
      "outputs": [],
      "source": [
        "import numpy as np\n",
        "a = np.zeros((4,4))\n",
        "b = np.ones((4,4))"
      ]
    },
    {
      "cell_type": "code",
      "source": [
        "a"
      ],
      "metadata": {
        "colab": {
          "base_uri": "https://localhost:8080/"
        },
        "id": "OBJlRHqd4HmX",
        "outputId": "6958eff1-3be0-482d-a1e2-1b488b56bfaa"
      },
      "execution_count": null,
      "outputs": [
        {
          "output_type": "execute_result",
          "data": {
            "text/plain": [
              "array([[0., 0., 0., 0.],\n",
              "       [0., 0., 0., 0.],\n",
              "       [0., 0., 0., 0.],\n",
              "       [0., 0., 0., 0.]])"
            ]
          },
          "metadata": {},
          "execution_count": 2
        }
      ]
    },
    {
      "cell_type": "code",
      "source": [
        "b"
      ],
      "metadata": {
        "colab": {
          "base_uri": "https://localhost:8080/"
        },
        "id": "bucRCH534Ifd",
        "outputId": "1a78b148-c5b7-4280-a5ea-af3d7ecd01a9"
      },
      "execution_count": null,
      "outputs": [
        {
          "output_type": "execute_result",
          "data": {
            "text/plain": [
              "array([[1., 1., 1., 1.],\n",
              "       [1., 1., 1., 1.],\n",
              "       [1., 1., 1., 1.],\n",
              "       [1., 1., 1., 1.]])"
            ]
          },
          "metadata": {},
          "execution_count": 3
        }
      ]
    },
    {
      "cell_type": "code",
      "source": [
        "np.hstack((a,b))"
      ],
      "metadata": {
        "colab": {
          "base_uri": "https://localhost:8080/"
        },
        "id": "99jgV4P84NaY",
        "outputId": "f737c832-165a-4a45-dc10-4e10ad243c6b"
      },
      "execution_count": null,
      "outputs": [
        {
          "output_type": "execute_result",
          "data": {
            "text/plain": [
              "array([[0., 0., 0., 0., 1., 1., 1., 1.],\n",
              "       [0., 0., 0., 0., 1., 1., 1., 1.],\n",
              "       [0., 0., 0., 0., 1., 1., 1., 1.],\n",
              "       [0., 0., 0., 0., 1., 1., 1., 1.]])"
            ]
          },
          "metadata": {},
          "execution_count": 4
        }
      ]
    },
    {
      "cell_type": "code",
      "source": [
        "np.vstack((a,b))"
      ],
      "metadata": {
        "colab": {
          "base_uri": "https://localhost:8080/"
        },
        "id": "ajTBvEQR4RqV",
        "outputId": "91c4186a-554f-4ab0-c593-3f3be1d6127a"
      },
      "execution_count": null,
      "outputs": [
        {
          "output_type": "execute_result",
          "data": {
            "text/plain": [
              "array([[0., 0., 0., 0.],\n",
              "       [0., 0., 0., 0.],\n",
              "       [0., 0., 0., 0.],\n",
              "       [0., 0., 0., 0.],\n",
              "       [1., 1., 1., 1.],\n",
              "       [1., 1., 1., 1.],\n",
              "       [1., 1., 1., 1.],\n",
              "       [1., 1., 1., 1.]])"
            ]
          },
          "metadata": {},
          "execution_count": 5
        }
      ]
    },
    {
      "cell_type": "code",
      "source": [
        "np.dstack((a,b))"
      ],
      "metadata": {
        "colab": {
          "base_uri": "https://localhost:8080/"
        },
        "id": "NYyzGHVB4YjU",
        "outputId": "578af2ae-138e-4b08-ad77-1e51cbb5b357"
      },
      "execution_count": null,
      "outputs": [
        {
          "output_type": "execute_result",
          "data": {
            "text/plain": [
              "array([[[0., 1.],\n",
              "        [0., 1.],\n",
              "        [0., 1.],\n",
              "        [0., 1.]],\n",
              "\n",
              "       [[0., 1.],\n",
              "        [0., 1.],\n",
              "        [0., 1.],\n",
              "        [0., 1.]],\n",
              "\n",
              "       [[0., 1.],\n",
              "        [0., 1.],\n",
              "        [0., 1.],\n",
              "        [0., 1.]],\n",
              "\n",
              "       [[0., 1.],\n",
              "        [0., 1.],\n",
              "        [0., 1.],\n",
              "        [0., 1.]]])"
            ]
          },
          "metadata": {},
          "execution_count": 6
        }
      ]
    },
    {
      "cell_type": "code",
      "source": [
        "a = np.arange(16).reshape(4,4)\n",
        "b = np.arange(16,32).reshape(4,4)"
      ],
      "metadata": {
        "id": "W0irczv14alc"
      },
      "execution_count": null,
      "outputs": []
    },
    {
      "cell_type": "code",
      "source": [
        "a"
      ],
      "metadata": {
        "colab": {
          "base_uri": "https://localhost:8080/"
        },
        "id": "Zap5x1sn53l_",
        "outputId": "8c2528ba-4879-44d4-af85-9c2cb7ae5ae2"
      },
      "execution_count": null,
      "outputs": [
        {
          "output_type": "execute_result",
          "data": {
            "text/plain": [
              "array([[ 0,  1,  2,  3],\n",
              "       [ 4,  5,  6,  7],\n",
              "       [ 8,  9, 10, 11],\n",
              "       [12, 13, 14, 15]])"
            ]
          },
          "metadata": {},
          "execution_count": 14
        }
      ]
    },
    {
      "cell_type": "code",
      "source": [
        "b"
      ],
      "metadata": {
        "colab": {
          "base_uri": "https://localhost:8080/"
        },
        "id": "sJ2jezay54rx",
        "outputId": "7b13a8ed-0e2c-439f-c796-520373eb3d07"
      },
      "execution_count": null,
      "outputs": [
        {
          "output_type": "execute_result",
          "data": {
            "text/plain": [
              "array([[16, 17, 18, 19],\n",
              "       [20, 21, 22, 23],\n",
              "       [24, 25, 26, 27],\n",
              "       [28, 29, 30, 31]])"
            ]
          },
          "metadata": {},
          "execution_count": 15
        }
      ]
    },
    {
      "cell_type": "code",
      "source": [
        "x = np.dstack((a,b))"
      ],
      "metadata": {
        "id": "5VHOUa-55JkQ"
      },
      "execution_count": null,
      "outputs": []
    },
    {
      "cell_type": "code",
      "source": [
        "x"
      ],
      "metadata": {
        "colab": {
          "base_uri": "https://localhost:8080/"
        },
        "id": "jMltC6PJ5j7l",
        "outputId": "7b64e8bb-1b3d-42da-91ff-7727dd568263"
      },
      "execution_count": null,
      "outputs": [
        {
          "output_type": "execute_result",
          "data": {
            "text/plain": [
              "array([[[ 0, 16],\n",
              "        [ 1, 17],\n",
              "        [ 2, 18],\n",
              "        [ 3, 19]],\n",
              "\n",
              "       [[ 4, 20],\n",
              "        [ 5, 21],\n",
              "        [ 6, 22],\n",
              "        [ 7, 23]],\n",
              "\n",
              "       [[ 8, 24],\n",
              "        [ 9, 25],\n",
              "        [10, 26],\n",
              "        [11, 27]],\n",
              "\n",
              "       [[12, 28],\n",
              "        [13, 29],\n",
              "        [14, 30],\n",
              "        [15, 31]]])"
            ]
          },
          "metadata": {},
          "execution_count": 13
        }
      ]
    },
    {
      "cell_type": "code",
      "source": [
        "x.shape"
      ],
      "metadata": {
        "colab": {
          "base_uri": "https://localhost:8080/"
        },
        "id": "tXaNAyV55Myx",
        "outputId": "56beb682-d164-4eb9-910f-b4c5610fa9f3"
      },
      "execution_count": null,
      "outputs": [
        {
          "output_type": "execute_result",
          "data": {
            "text/plain": [
              "(4, 4, 2)"
            ]
          },
          "metadata": {},
          "execution_count": 12
        }
      ]
    },
    {
      "cell_type": "code",
      "source": [
        "np.concatenate((a,b),axis=1) # increase columns"
      ],
      "metadata": {
        "colab": {
          "base_uri": "https://localhost:8080/"
        },
        "id": "nk0Ln1Bc5W9I",
        "outputId": "d3046ae0-8b3c-4a35-d7c2-1a7686f5bc70"
      },
      "execution_count": null,
      "outputs": [
        {
          "output_type": "execute_result",
          "data": {
            "text/plain": [
              "array([[ 0,  1,  2,  3, 16, 17, 18, 19],\n",
              "       [ 4,  5,  6,  7, 20, 21, 22, 23],\n",
              "       [ 8,  9, 10, 11, 24, 25, 26, 27],\n",
              "       [12, 13, 14, 15, 28, 29, 30, 31]])"
            ]
          },
          "metadata": {},
          "execution_count": 16
        }
      ]
    },
    {
      "cell_type": "code",
      "source": [
        "np.concatenate((a,b),axis=0) # increase rows"
      ],
      "metadata": {
        "colab": {
          "base_uri": "https://localhost:8080/"
        },
        "id": "njc5fxPl6KTQ",
        "outputId": "d755120d-2cc9-4470-c147-092b5e4a462d"
      },
      "execution_count": null,
      "outputs": [
        {
          "output_type": "execute_result",
          "data": {
            "text/plain": [
              "array([[ 0,  1,  2,  3],\n",
              "       [ 4,  5,  6,  7],\n",
              "       [ 8,  9, 10, 11],\n",
              "       [12, 13, 14, 15],\n",
              "       [16, 17, 18, 19],\n",
              "       [20, 21, 22, 23],\n",
              "       [24, 25, 26, 27],\n",
              "       [28, 29, 30, 31]])"
            ]
          },
          "metadata": {},
          "execution_count": 17
        }
      ]
    },
    {
      "cell_type": "code",
      "source": [
        "np.column_stack((a,b))"
      ],
      "metadata": {
        "colab": {
          "base_uri": "https://localhost:8080/"
        },
        "id": "HKYNIpHn6kfJ",
        "outputId": "129e9db5-5781-4fc9-83bc-8072247199fb"
      },
      "execution_count": null,
      "outputs": [
        {
          "output_type": "execute_result",
          "data": {
            "text/plain": [
              "array([[ 0,  1,  2,  3, 16, 17, 18, 19],\n",
              "       [ 4,  5,  6,  7, 20, 21, 22, 23],\n",
              "       [ 8,  9, 10, 11, 24, 25, 26, 27],\n",
              "       [12, 13, 14, 15, 28, 29, 30, 31]])"
            ]
          },
          "metadata": {},
          "execution_count": 18
        }
      ]
    },
    {
      "cell_type": "code",
      "source": [
        "np.row_stack((a,b))"
      ],
      "metadata": {
        "colab": {
          "base_uri": "https://localhost:8080/"
        },
        "id": "HwcZfYN168V6",
        "outputId": "8a9074dc-12df-4959-8fee-7f6d85ff8788"
      },
      "execution_count": null,
      "outputs": [
        {
          "output_type": "execute_result",
          "data": {
            "text/plain": [
              "array([[ 0,  1,  2,  3],\n",
              "       [ 4,  5,  6,  7],\n",
              "       [ 8,  9, 10, 11],\n",
              "       [12, 13, 14, 15],\n",
              "       [16, 17, 18, 19],\n",
              "       [20, 21, 22, 23],\n",
              "       [24, 25, 26, 27],\n",
              "       [28, 29, 30, 31]])"
            ]
          },
          "metadata": {},
          "execution_count": 19
        }
      ]
    },
    {
      "cell_type": "markdown",
      "source": [
        "```\n",
        "hstack == column_stack == axis=1\n",
        "vstack == row_stack    == axis=0\n",
        "```"
      ],
      "metadata": {
        "id": "Ye_dNFA77Kfy"
      }
    },
    {
      "cell_type": "markdown",
      "source": [
        "#Spliting Arrays"
      ],
      "metadata": {
        "id": "4Vzk8oyv7k74"
      }
    },
    {
      "cell_type": "code",
      "source": [
        "a"
      ],
      "metadata": {
        "colab": {
          "base_uri": "https://localhost:8080/"
        },
        "id": "sOmt2zoe7A6b",
        "outputId": "18eba062-e29c-4053-d24c-aee0e6c01441"
      },
      "execution_count": null,
      "outputs": [
        {
          "output_type": "execute_result",
          "data": {
            "text/plain": [
              "array([[ 0,  1,  2,  3],\n",
              "       [ 4,  5,  6,  7],\n",
              "       [ 8,  9, 10, 11],\n",
              "       [12, 13, 14, 15]])"
            ]
          },
          "metadata": {},
          "execution_count": 20
        }
      ]
    },
    {
      "cell_type": "code",
      "source": [
        "np.hsplit(a,2)"
      ],
      "metadata": {
        "colab": {
          "base_uri": "https://localhost:8080/"
        },
        "id": "6W0cIzqs7nqn",
        "outputId": "11f4eed0-6f6a-4a85-a3db-d081fa81748d"
      },
      "execution_count": null,
      "outputs": [
        {
          "output_type": "execute_result",
          "data": {
            "text/plain": [
              "[array([[ 0,  1],\n",
              "        [ 4,  5],\n",
              "        [ 8,  9],\n",
              "        [12, 13]]),\n",
              " array([[ 2,  3],\n",
              "        [ 6,  7],\n",
              "        [10, 11],\n",
              "        [14, 15]])]"
            ]
          },
          "metadata": {},
          "execution_count": 22
        }
      ]
    },
    {
      "cell_type": "code",
      "source": [
        "np.vsplit(a,2)"
      ],
      "metadata": {
        "colab": {
          "base_uri": "https://localhost:8080/"
        },
        "id": "QzPx8Sym7-_0",
        "outputId": "2fa43428-b2c0-447e-ab92-d15e20eaa1e9"
      },
      "execution_count": null,
      "outputs": [
        {
          "output_type": "execute_result",
          "data": {
            "text/plain": [
              "[array([[0, 1, 2, 3],\n",
              "        [4, 5, 6, 7]]),\n",
              " array([[ 8,  9, 10, 11],\n",
              "        [12, 13, 14, 15]])]"
            ]
          },
          "metadata": {},
          "execution_count": 23
        }
      ]
    },
    {
      "cell_type": "code",
      "source": [
        "np.split(a, 2, axis=1)"
      ],
      "metadata": {
        "colab": {
          "base_uri": "https://localhost:8080/"
        },
        "id": "dtJcqnCT8JMP",
        "outputId": "8dd39c41-b173-4951-e2d0-3c239fbb48d5"
      },
      "execution_count": null,
      "outputs": [
        {
          "output_type": "execute_result",
          "data": {
            "text/plain": [
              "[array([[ 0,  1],\n",
              "        [ 4,  5],\n",
              "        [ 8,  9],\n",
              "        [12, 13]]),\n",
              " array([[ 2,  3],\n",
              "        [ 6,  7],\n",
              "        [10, 11],\n",
              "        [14, 15]])]"
            ]
          },
          "metadata": {},
          "execution_count": 26
        }
      ]
    },
    {
      "cell_type": "code",
      "source": [
        "np.split(a, 2, axis=0)"
      ],
      "metadata": {
        "colab": {
          "base_uri": "https://localhost:8080/"
        },
        "id": "mt-mDa-W81d_",
        "outputId": "68a9f0fa-2501-4285-c3f6-f147582283af"
      },
      "execution_count": null,
      "outputs": [
        {
          "output_type": "execute_result",
          "data": {
            "text/plain": [
              "[array([[0, 1, 2, 3],\n",
              "        [4, 5, 6, 7]]),\n",
              " array([[ 8,  9, 10, 11],\n",
              "        [12, 13, 14, 15]])]"
            ]
          },
          "metadata": {},
          "execution_count": 27
        }
      ]
    },
    {
      "cell_type": "code",
      "source": [
        "a.mean(), a.var(), a.std()"
      ],
      "metadata": {
        "colab": {
          "base_uri": "https://localhost:8080/"
        },
        "id": "TMLsdUj48-Vl",
        "outputId": "429079e9-5307-490b-bb67-77b0c167d979"
      },
      "execution_count": null,
      "outputs": [
        {
          "output_type": "execute_result",
          "data": {
            "text/plain": [
              "(7.5, 21.25, 4.6097722286464435)"
            ]
          },
          "metadata": {},
          "execution_count": 28
        }
      ]
    },
    {
      "cell_type": "markdown",
      "source": [
        "#Fancy Indexing"
      ],
      "metadata": {
        "id": "ygF16WcdAJN9"
      }
    },
    {
      "cell_type": "code",
      "source": [
        "a"
      ],
      "metadata": {
        "colab": {
          "base_uri": "https://localhost:8080/"
        },
        "id": "9qzYtpTQAFwH",
        "outputId": "8243a43b-2175-4678-8ae8-f6bc73617cd8"
      },
      "execution_count": null,
      "outputs": [
        {
          "output_type": "execute_result",
          "data": {
            "text/plain": [
              "array([[ 0,  1,  2,  3],\n",
              "       [ 4,  5,  6,  7],\n",
              "       [ 8,  9, 10, 11],\n",
              "       [12, 13, 14, 15]])"
            ]
          },
          "metadata": {},
          "execution_count": 29
        }
      ]
    },
    {
      "cell_type": "code",
      "source": [
        "a[:,3:]"
      ],
      "metadata": {
        "colab": {
          "base_uri": "https://localhost:8080/"
        },
        "id": "CAG9n2doAV4C",
        "outputId": "86c0a204-887b-421f-be2a-5ad834a0aab3"
      },
      "execution_count": null,
      "outputs": [
        {
          "output_type": "execute_result",
          "data": {
            "text/plain": [
              "array([[ 3],\n",
              "       [ 7],\n",
              "       [11],\n",
              "       [15]])"
            ]
          },
          "metadata": {},
          "execution_count": 30
        }
      ]
    },
    {
      "cell_type": "code",
      "source": [
        "a[[3,0,2]]"
      ],
      "metadata": {
        "colab": {
          "base_uri": "https://localhost:8080/"
        },
        "id": "Z2vVVMKWAd9T",
        "outputId": "40b6d102-16d7-49a0-e483-884b5ce5f292"
      },
      "execution_count": null,
      "outputs": [
        {
          "output_type": "execute_result",
          "data": {
            "text/plain": [
              "array([[12, 13, 14, 15],\n",
              "       [ 0,  1,  2,  3],\n",
              "       [ 8,  9, 10, 11]])"
            ]
          },
          "metadata": {},
          "execution_count": 31
        }
      ]
    },
    {
      "cell_type": "code",
      "source": [
        "a[:, [3,1,0]]"
      ],
      "metadata": {
        "colab": {
          "base_uri": "https://localhost:8080/"
        },
        "id": "GthF5_zRAiNM",
        "outputId": "07452274-db40-4c96-bc69-f8c9bbc588dd"
      },
      "execution_count": null,
      "outputs": [
        {
          "output_type": "execute_result",
          "data": {
            "text/plain": [
              "array([[ 3,  1,  0],\n",
              "       [ 7,  5,  4],\n",
              "       [11,  9,  8],\n",
              "       [15, 13, 12]])"
            ]
          },
          "metadata": {},
          "execution_count": 32
        }
      ]
    },
    {
      "cell_type": "code",
      "source": [
        "a.T, a.transpose()"
      ],
      "metadata": {
        "colab": {
          "base_uri": "https://localhost:8080/"
        },
        "id": "G0MzuwxMAs6T",
        "outputId": "27e468af-2fbf-4b80-b911-d4cab6e51aa7"
      },
      "execution_count": null,
      "outputs": [
        {
          "output_type": "execute_result",
          "data": {
            "text/plain": [
              "(array([[ 0,  4,  8, 12],\n",
              "        [ 1,  5,  9, 13],\n",
              "        [ 2,  6, 10, 14],\n",
              "        [ 3,  7, 11, 15]]),\n",
              " array([[ 0,  4,  8, 12],\n",
              "        [ 1,  5,  9, 13],\n",
              "        [ 2,  6, 10, 14],\n",
              "        [ 3,  7, 11, 15]]))"
            ]
          },
          "metadata": {},
          "execution_count": 33
        }
      ]
    },
    {
      "cell_type": "code",
      "source": [
        "a = np.array([2.9, 2.1, 3.5])"
      ],
      "metadata": {
        "id": "1v-FcQrbA2VF"
      },
      "execution_count": null,
      "outputs": []
    },
    {
      "cell_type": "code",
      "source": [
        "np.ceil(a)"
      ],
      "metadata": {
        "colab": {
          "base_uri": "https://localhost:8080/"
        },
        "id": "8dkg7F0PBdfz",
        "outputId": "99766a0b-5bec-4675-ad28-5f8d2285ed57"
      },
      "execution_count": null,
      "outputs": [
        {
          "output_type": "execute_result",
          "data": {
            "text/plain": [
              "array([3., 3., 4.])"
            ]
          },
          "metadata": {},
          "execution_count": 35
        }
      ]
    },
    {
      "cell_type": "code",
      "source": [
        "np.floor(a)"
      ],
      "metadata": {
        "colab": {
          "base_uri": "https://localhost:8080/"
        },
        "id": "TEffTXZ_Bf0r",
        "outputId": "14a7f512-3f6d-4758-ab9b-e9ffa8328dc8"
      },
      "execution_count": null,
      "outputs": [
        {
          "output_type": "execute_result",
          "data": {
            "text/plain": [
              "array([2., 2., 3.])"
            ]
          },
          "metadata": {},
          "execution_count": 36
        }
      ]
    },
    {
      "cell_type": "markdown",
      "source": [
        "#Miror Operations"
      ],
      "metadata": {
        "id": "3OwhVrwnCP4s"
      }
    },
    {
      "cell_type": "code",
      "source": [
        "w = np.arange(16).reshape(4,4)\n",
        "z = np.arange(16,32).reshape(4,4)\n",
        "t = np.arange(12).reshape(3,4)"
      ],
      "metadata": {
        "id": "6vzGScjpBiZn"
      },
      "execution_count": null,
      "outputs": []
    },
    {
      "cell_type": "code",
      "source": [
        "w.shape"
      ],
      "metadata": {
        "colab": {
          "base_uri": "https://localhost:8080/"
        },
        "id": "gc3IgzA-CZFO",
        "outputId": "ce550aa7-aeb6-4088-ad44-cdbbe3a061fc"
      },
      "execution_count": null,
      "outputs": [
        {
          "output_type": "execute_result",
          "data": {
            "text/plain": [
              "(4, 4)"
            ]
          },
          "metadata": {},
          "execution_count": 38
        }
      ]
    },
    {
      "cell_type": "code",
      "source": [
        "z.shape"
      ],
      "metadata": {
        "colab": {
          "base_uri": "https://localhost:8080/"
        },
        "id": "vXQP1IMOCdvh",
        "outputId": "3a9ff7e8-5829-4825-e02a-5a60d4f804c9"
      },
      "execution_count": null,
      "outputs": [
        {
          "output_type": "execute_result",
          "data": {
            "text/plain": [
              "(4, 4)"
            ]
          },
          "metadata": {},
          "execution_count": 39
        }
      ]
    },
    {
      "cell_type": "code",
      "source": [
        "t.shape"
      ],
      "metadata": {
        "colab": {
          "base_uri": "https://localhost:8080/"
        },
        "id": "VmqhpVRiCtFf",
        "outputId": "6a4b3758-484d-43bd-c2c2-b05ee95fb26d"
      },
      "execution_count": null,
      "outputs": [
        {
          "output_type": "execute_result",
          "data": {
            "text/plain": [
              "(3, 4)"
            ]
          },
          "metadata": {},
          "execution_count": 42
        }
      ]
    },
    {
      "cell_type": "code",
      "source": [
        "w * z"
      ],
      "metadata": {
        "colab": {
          "base_uri": "https://localhost:8080/"
        },
        "id": "GjmI9nIOCeut",
        "outputId": "76ccd211-df56-4296-a9d4-90311e3aa65d"
      },
      "execution_count": null,
      "outputs": [
        {
          "output_type": "execute_result",
          "data": {
            "text/plain": [
              "array([[  0,  17,  36,  57],\n",
              "       [ 80, 105, 132, 161],\n",
              "       [192, 225, 260, 297],\n",
              "       [336, 377, 420, 465]])"
            ]
          },
          "metadata": {},
          "execution_count": 40
        }
      ]
    },
    {
      "cell_type": "code",
      "source": [
        "w + t"
      ],
      "metadata": {
        "colab": {
          "base_uri": "https://localhost:8080/",
          "height": 141
        },
        "id": "sbixAW2ICgr7",
        "outputId": "1dd4c15d-c42c-42fb-b8f3-1fa69955de34"
      },
      "execution_count": null,
      "outputs": [
        {
          "output_type": "error",
          "ename": "ValueError",
          "evalue": "operands could not be broadcast together with shapes (4,4) (3,4) ",
          "traceback": [
            "\u001b[0;31m---------------------------------------------------------------------------\u001b[0m",
            "\u001b[0;31mValueError\u001b[0m                                Traceback (most recent call last)",
            "\u001b[0;32m<ipython-input-43-c6e6fc6ebc32>\u001b[0m in \u001b[0;36m<cell line: 0>\u001b[0;34m()\u001b[0m\n\u001b[0;32m----> 1\u001b[0;31m \u001b[0mw\u001b[0m \u001b[0;34m+\u001b[0m \u001b[0mt\u001b[0m\u001b[0;34m\u001b[0m\u001b[0;34m\u001b[0m\u001b[0m\n\u001b[0m",
            "\u001b[0;31mValueError\u001b[0m: operands could not be broadcast together with shapes (4,4) (3,4) "
          ]
        }
      ]
    },
    {
      "cell_type": "code",
      "source": [
        "w * t"
      ],
      "metadata": {
        "colab": {
          "base_uri": "https://localhost:8080/",
          "height": 141
        },
        "id": "-rDuEZ8sC2H-",
        "outputId": "51fce988-02b5-475e-b99f-a62fbef8d9cd"
      },
      "execution_count": null,
      "outputs": [
        {
          "output_type": "error",
          "ename": "ValueError",
          "evalue": "operands could not be broadcast together with shapes (4,4) (3,4) ",
          "traceback": [
            "\u001b[0;31m---------------------------------------------------------------------------\u001b[0m",
            "\u001b[0;31mValueError\u001b[0m                                Traceback (most recent call last)",
            "\u001b[0;32m<ipython-input-44-710d188be7c2>\u001b[0m in \u001b[0;36m<cell line: 0>\u001b[0;34m()\u001b[0m\n\u001b[0;32m----> 1\u001b[0;31m \u001b[0mw\u001b[0m \u001b[0;34m*\u001b[0m \u001b[0mt\u001b[0m\u001b[0;34m\u001b[0m\u001b[0;34m\u001b[0m\u001b[0m\n\u001b[0m",
            "\u001b[0;31mValueError\u001b[0m: operands could not be broadcast together with shapes (4,4) (3,4) "
          ]
        }
      ]
    },
    {
      "cell_type": "code",
      "source": [
        "w@z"
      ],
      "metadata": {
        "colab": {
          "base_uri": "https://localhost:8080/"
        },
        "id": "6YREVOcIC78b",
        "outputId": "54fa706d-21ce-405c-8212-cd7734727f3f"
      },
      "execution_count": null,
      "outputs": [
        {
          "output_type": "execute_result",
          "data": {
            "text/plain": [
              "array([[ 152,  158,  164,  170],\n",
              "       [ 504,  526,  548,  570],\n",
              "       [ 856,  894,  932,  970],\n",
              "       [1208, 1262, 1316, 1370]])"
            ]
          },
          "metadata": {},
          "execution_count": 45
        }
      ]
    },
    {
      "cell_type": "code",
      "source": [
        "from numpy.linalg import inv, qr"
      ],
      "metadata": {
        "id": "hOyzsh8uDC_Y"
      },
      "execution_count": 2,
      "outputs": []
    },
    {
      "cell_type": "code",
      "source": [
        "x = np.random.randn(5,5)\n",
        "x"
      ],
      "metadata": {
        "colab": {
          "base_uri": "https://localhost:8080/"
        },
        "id": "ubHrWVb2W8sF",
        "outputId": "93621f06-ba28-4c83-cba0-c06e5cfa3967"
      },
      "execution_count": 3,
      "outputs": [
        {
          "output_type": "execute_result",
          "data": {
            "text/plain": [
              "array([[-0.83590674,  2.16913826,  0.08287619,  0.97906295,  1.17420557],\n",
              "       [ 0.78019042, -0.51959545,  0.52371177,  0.93189458,  0.08083345],\n",
              "       [-0.19542552,  0.93088837, -0.83808743,  0.20258783,  1.37437049],\n",
              "       [-0.83126084,  0.94145727, -0.01420832,  0.35430456, -0.41694802],\n",
              "       [ 0.44750838, -1.71725269, -0.34366325, -1.1834194 , -0.71025358]])"
            ]
          },
          "metadata": {},
          "execution_count": 3
        }
      ]
    },
    {
      "cell_type": "code",
      "source": [
        "x_inv = inv(x)\n",
        "x_inv"
      ],
      "metadata": {
        "colab": {
          "base_uri": "https://localhost:8080/"
        },
        "id": "a6WK8ADWXDit",
        "outputId": "93c73f9f-f4a9-495a-b735-5cc26b1a5186"
      },
      "execution_count": 4,
      "outputs": [
        {
          "output_type": "execute_result",
          "data": {
            "text/plain": [
              "array([[-5.21829402, -2.20470902,  0.76670976, -1.66086141, -6.41929599],\n",
              "       [-3.60503228, -2.09573162,  0.35631921, -1.05718632, -4.88832147],\n",
              "       [ 2.21145242,  0.18063774, -1.4381154 , -0.9384432 ,  1.44466709],\n",
              "       [ 0.86255935,  1.56335391,  0.39445331,  1.35374687,  1.57250343],\n",
              "       [ 2.9211492 ,  0.98569457, -0.33981859, -0.29191717,  3.04734033]])"
            ]
          },
          "metadata": {},
          "execution_count": 4
        }
      ]
    },
    {
      "cell_type": "code",
      "source": [
        "x@x_inv"
      ],
      "metadata": {
        "colab": {
          "base_uri": "https://localhost:8080/"
        },
        "id": "YNRCja-1XK-B",
        "outputId": "8758d818-d4fd-42d9-dbba-b72f706aba66"
      },
      "execution_count": 5,
      "outputs": [
        {
          "output_type": "execute_result",
          "data": {
            "text/plain": [
              "array([[ 1.00000000e+00,  2.60633591e-16,  2.79038045e-18,\n",
              "        -2.16367267e-16, -1.16259666e-15],\n",
              "       [-1.26755550e-15,  1.00000000e+00,  2.31629721e-16,\n",
              "        -3.70570626e-16, -1.85557166e-15],\n",
              "       [ 4.31882798e-16,  1.87446740e-16,  1.00000000e+00,\n",
              "         5.48344851e-17,  7.76273312e-17],\n",
              "       [-9.34802557e-16,  2.44550394e-16, -1.64176997e-16,\n",
              "         1.00000000e+00, -1.01980840e-15],\n",
              "       [ 3.82832791e-16,  2.10905097e-16,  8.41758222e-17,\n",
              "         4.50147585e-16,  1.00000000e+00]])"
            ]
          },
          "metadata": {},
          "execution_count": 5
        }
      ]
    },
    {
      "cell_type": "code",
      "source": [
        "a = np.array([1.234, 5.345, 7.8])"
      ],
      "metadata": {
        "id": "ePpsrGO1XOSL"
      },
      "execution_count": 6,
      "outputs": []
    },
    {
      "cell_type": "code",
      "source": [
        "np.modf(a)"
      ],
      "metadata": {
        "colab": {
          "base_uri": "https://localhost:8080/"
        },
        "id": "toft8a-TXvGc",
        "outputId": "7fe22eee-624c-416b-a646-a49f98f7ab97"
      },
      "execution_count": 7,
      "outputs": [
        {
          "output_type": "execute_result",
          "data": {
            "text/plain": [
              "(array([0.234, 0.345, 0.8  ]), array([1., 5., 7.]))"
            ]
          },
          "metadata": {},
          "execution_count": 7
        }
      ]
    },
    {
      "cell_type": "code",
      "source": [
        "qr(x)"
      ],
      "metadata": {
        "colab": {
          "base_uri": "https://localhost:8080/"
        },
        "id": "Aw9eZWTwXxXn",
        "outputId": "808d634e-a529-49a6-a1ce-b8643d0087ae"
      },
      "execution_count": 8,
      "outputs": [
        {
          "output_type": "execute_result",
          "data": {
            "text/plain": [
              "QRResult(Q=array([[-0.55890223, -0.42170832,  0.1299322 ,  0.2088064 ,  0.67030433],\n",
              "       [ 0.52164929, -0.52291727,  0.2887661 , -0.5655924 ,  0.22618336],\n",
              "       [-0.130665  , -0.35666435, -0.88081953, -0.2716501 , -0.0779768 ],\n",
              "       [-0.5557959 ,  0.32094759,  0.18686531, -0.74072797, -0.06698506],\n",
              "       [ 0.29921212,  0.56436052, -0.29827852, -0.11846273,  0.6992609 ]]), R=array([[ 1.49562249, -2.64209824,  0.2414516 , -0.6385639 , -0.77446001],\n",
              "       [ 0.        , -1.64204411, -0.2084017 , -1.52660062, -1.56228797],\n",
              "       [ 0.        ,  0.        ,  1.00005459,  0.63706388, -0.90072303],\n",
              "       [ 0.        ,  0.        ,  0.        , -0.49992309,  0.21909861],\n",
              "       [ 0.        ,  0.        ,  0.        ,  0.        ,  0.22946597]]))"
            ]
          },
          "metadata": {},
          "execution_count": 8
        }
      ]
    },
    {
      "cell_type": "markdown",
      "source": [
        "#Broadcasting"
      ],
      "metadata": {
        "id": "my5BNOukX-tw"
      }
    },
    {
      "cell_type": "code",
      "source": [
        "x = np.arange(16).reshape(4,4)\n",
        "x"
      ],
      "metadata": {
        "colab": {
          "base_uri": "https://localhost:8080/"
        },
        "id": "yUctirFHXz0V",
        "outputId": "58a86a83-20d3-470b-d598-d629bbc503ab"
      },
      "execution_count": 9,
      "outputs": [
        {
          "output_type": "execute_result",
          "data": {
            "text/plain": [
              "array([[ 0,  1,  2,  3],\n",
              "       [ 4,  5,  6,  7],\n",
              "       [ 8,  9, 10, 11],\n",
              "       [12, 13, 14, 15]])"
            ]
          },
          "metadata": {},
          "execution_count": 9
        }
      ]
    },
    {
      "cell_type": "code",
      "source": [
        "y = np.arange(4)\n",
        "4"
      ],
      "metadata": {
        "colab": {
          "base_uri": "https://localhost:8080/"
        },
        "id": "53dBlZ4vcSze",
        "outputId": "0b544164-f0da-46b6-95d1-98ee6842e63e"
      },
      "execution_count": 11,
      "outputs": [
        {
          "output_type": "execute_result",
          "data": {
            "text/plain": [
              "4"
            ]
          },
          "metadata": {},
          "execution_count": 11
        }
      ]
    },
    {
      "cell_type": "code",
      "source": [
        "x + y"
      ],
      "metadata": {
        "colab": {
          "base_uri": "https://localhost:8080/"
        },
        "id": "1HGhiL3NcWGJ",
        "outputId": "8b41de6d-7331-46ef-e10f-24a43d6a4989"
      },
      "execution_count": 12,
      "outputs": [
        {
          "output_type": "execute_result",
          "data": {
            "text/plain": [
              "array([[ 0,  2,  4,  6],\n",
              "       [ 4,  6,  8, 10],\n",
              "       [ 8, 10, 12, 14],\n",
              "       [12, 14, 16, 18]])"
            ]
          },
          "metadata": {},
          "execution_count": 12
        }
      ]
    },
    {
      "cell_type": "code",
      "source": [],
      "metadata": {
        "id": "CWSSCXRwcdJJ"
      },
      "execution_count": null,
      "outputs": []
    }
  ]
}